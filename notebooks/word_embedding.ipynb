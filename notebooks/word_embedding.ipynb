{
  "nbformat": 4,
  "nbformat_minor": 0,
  "metadata": {
    "colab": {
      "name": "word_embedding.ipynb",
      "provenance": [],
      "include_colab_link": true
    },
    "kernelspec": {
      "name": "python3",
      "display_name": "Python 3"
    }
  },
  "cells": [
    {
      "cell_type": "markdown",
      "metadata": {
        "id": "view-in-github",
        "colab_type": "text"
      },
      "source": [
        "<a href=\"https://colab.research.google.com/github/alalshow/AIpjt-1/blob/master/notebooks/word_embedding.ipynb\" target=\"_parent\"><img src=\"https://colab.research.google.com/assets/colab-badge.svg\" alt=\"Open In Colab\"/></a>"
      ]
    },
    {
      "cell_type": "markdown",
      "metadata": {
        "id": "F6zkgX_jrhI9"
      },
      "source": [
        "# Bag of words"
      ]
    },
    {
      "cell_type": "code",
      "metadata": {
        "id": "Ghbypc56oh4Y"
      },
      "source": [
        "corpus = [\n",
        "    '학교에 가서 수업을 들었다. 학교에 간건 오랜만이다.',\n",
        "    '학교에 가서 친구 얘기를 들었다.',\n",
        "    '내일 가서 뭐 먹지?'\n",
        "]"
      ],
      "execution_count": 1,
      "outputs": []
    },
    {
      "cell_type": "code",
      "metadata": {
        "colab": {
          "base_uri": "https://localhost:8080/"
        },
        "id": "41zohsKirhZL",
        "outputId": "a23f2f54-0afe-4591-d6f7-ca74f4d5b94b"
      },
      "source": [
        "from sklearn.feature_extraction.text import CountVectorizer\n",
        "\n",
        "vect = CountVectorizer()\n",
        "vect.fit(corpus)\n",
        "vect.vocabulary_"
      ],
      "execution_count": 2,
      "outputs": [
        {
          "output_type": "execute_result",
          "data": {
            "text/plain": [
              "{'학교에': 9,\n",
              " '가서': 0,\n",
              " '수업을': 5,\n",
              " '들었다': 3,\n",
              " '간건': 1,\n",
              " '오랜만이다': 7,\n",
              " '친구': 8,\n",
              " '얘기를': 6,\n",
              " '내일': 2,\n",
              " '먹지': 4}"
            ]
          },
          "metadata": {},
          "execution_count": 2
        }
      ]
    },
    {
      "cell_type": "code",
      "metadata": {
        "colab": {
          "base_uri": "https://localhost:8080/"
        },
        "id": "w0C3SHzdwlLd",
        "outputId": "962b695f-ccb1-4602-ec8f-4adec94447e5"
      },
      "source": [
        "vect.transform(corpus).toarray()"
      ],
      "execution_count": 3,
      "outputs": [
        {
          "output_type": "execute_result",
          "data": {
            "text/plain": [
              "array([[1, 1, 0, 1, 0, 1, 0, 1, 0, 2],\n",
              "       [1, 0, 0, 1, 0, 0, 1, 0, 1, 1],\n",
              "       [1, 0, 1, 0, 1, 0, 0, 0, 0, 0]])"
            ]
          },
          "metadata": {},
          "execution_count": 3
        }
      ]
    },
    {
      "cell_type": "code",
      "metadata": {
        "colab": {
          "base_uri": "https://localhost:8080/"
        },
        "id": "f1OgYhGtmCaN",
        "outputId": "0b57be35-60de-46ce-eaf1-ccfb81ff186b"
      },
      "source": [
        "vect.transform(['수업을 들었다. 수업은 재미있다.']).toarray()"
      ],
      "execution_count": 4,
      "outputs": [
        {
          "output_type": "execute_result",
          "data": {
            "text/plain": [
              "array([[0, 0, 0, 1, 0, 1, 0, 0, 0, 0]])"
            ]
          },
          "metadata": {},
          "execution_count": 4
        }
      ]
    },
    {
      "cell_type": "markdown",
      "metadata": {
        "id": "Xk5wcRmjromr"
      },
      "source": [
        "# TFIDF"
      ]
    },
    {
      "cell_type": "code",
      "metadata": {
        "id": "EwMuh0iBroCD",
        "colab": {
          "base_uri": "https://localhost:8080/"
        },
        "outputId": "51be75f3-ca98-4f47-b42f-264477c34eff"
      },
      "source": [
        "from sklearn.feature_extraction.text import TfidfVectorizer\n",
        "\n",
        "tfidv = TfidfVectorizer().fit(corpus)\n",
        "tfidv.transform(corpus).toarray()"
      ],
      "execution_count": 5,
      "outputs": [
        {
          "output_type": "execute_result",
          "data": {
            "text/plain": [
              "array([[0.23642005, 0.40029393, 0.        , 0.30443385, 0.        ,\n",
              "        0.40029393, 0.        , 0.40029393, 0.        , 0.60886771],\n",
              "       [0.31544415, 0.        , 0.        , 0.40619178, 0.        ,\n",
              "        0.        , 0.53409337, 0.        , 0.53409337, 0.40619178],\n",
              "       [0.38537163, 0.        , 0.65249088, 0.        , 0.65249088,\n",
              "        0.        , 0.        , 0.        , 0.        , 0.        ]])"
            ]
          },
          "metadata": {},
          "execution_count": 5
        }
      ]
    },
    {
      "cell_type": "markdown",
      "metadata": {
        "id": "-aA_l_6grb6i"
      },
      "source": [
        "# Word2vec\n"
      ]
    },
    {
      "cell_type": "code",
      "metadata": {
        "colab": {
          "base_uri": "https://localhost:8080/"
        },
        "id": "k1GPZL4lsxeB",
        "outputId": "f95a397d-5801-4cd8-e613-6f327de0633f"
      },
      "source": [
        "# make datasets (.txt file)\n",
        "!wget https://raw.githubusercontent.com/e9t/nsmc/master/ratings_train.txt\n",
        "\n",
        "import pandas as pd\n",
        "\n",
        "df = pd.read_csv('ratings_train.txt', sep='\\t')\n",
        "doc = list(df['document'])\n",
        "\n",
        "with open('ratings_train_text_only.txt', 'w') as f:\n",
        "  for text in doc:\n",
        "    f.write(str(text) + '\\n')"
      ],
      "execution_count": 6,
      "outputs": [
        {
          "output_type": "stream",
          "name": "stdout",
          "text": [
            "--2023-01-04 12:02:59--  https://raw.githubusercontent.com/e9t/nsmc/master/ratings_train.txt\n",
            "Resolving raw.githubusercontent.com (raw.githubusercontent.com)... 185.199.108.133, 185.199.109.133, 185.199.110.133, ...\n",
            "Connecting to raw.githubusercontent.com (raw.githubusercontent.com)|185.199.108.133|:443... connected.\n",
            "HTTP request sent, awaiting response... 200 OK\n",
            "Length: 14628807 (14M) [text/plain]\n",
            "Saving to: ‘ratings_train.txt’\n",
            "\n",
            "ratings_train.txt   100%[===================>]  13.95M  --.-KB/s    in 0.06s   \n",
            "\n",
            "2023-01-04 12:03:00 (252 MB/s) - ‘ratings_train.txt’ saved [14628807/14628807]\n",
            "\n"
          ]
        }
      ]
    },
    {
      "cell_type": "code",
      "metadata": {
        "id": "7Tak7oGWny22"
      },
      "source": [
        "# read text file\n",
        "with open('ratings_train_text_only.txt', 'r') as f:\n",
        "  texts = [str(text).replace('\\n', '') for text in doc if len(str(text)) >= 10]"
      ],
      "execution_count": 7,
      "outputs": []
    },
    {
      "cell_type": "code",
      "metadata": {
        "colab": {
          "base_uri": "https://localhost:8080/"
        },
        "id": "JCMOH8wcqEnl",
        "outputId": "353e9549-12b1-4e11-8401-b4e4b2fe8098"
      },
      "source": [
        "# word2vec training\n",
        "\n",
        "import os\n",
        "from gensim.models import Word2Vec\n",
        "\n",
        "def word2vec(texts):\n",
        "    inputs = [tt.split(' ') for tt in texts]\n",
        "    print('number of text = ', len(inputs))\n",
        "\n",
        "    print('word2vec training...')\n",
        "    model = Word2Vec(inputs, size=50, window=3, min_count=3, negative=5, workers=os.cpu_count(), iter=10, sg=1)\n",
        "    model.init_sims\n",
        "\n",
        "    model.save('word2vec')\n",
        "\n",
        "word2vec(texts)"
      ],
      "execution_count": 8,
      "outputs": [
        {
          "output_type": "stream",
          "name": "stderr",
          "text": [
            "WARNING:gensim.models.base_any2vec:consider setting layer size to a multiple of 4 for greater performance\n"
          ]
        },
        {
          "output_type": "stream",
          "name": "stdout",
          "text": [
            "number of text =  136748\n",
            "word2vec training...\n"
          ]
        }
      ]
    },
    {
      "cell_type": "code",
      "metadata": {
        "id": "YZBnuLbRsvMm"
      },
      "source": [
        "w2v = Word2Vec.load('word2vec')"
      ],
      "execution_count": 9,
      "outputs": []
    },
    {
      "cell_type": "code",
      "metadata": {
        "colab": {
          "base_uri": "https://localhost:8080/"
        },
        "id": "Gm7uRzRJzmcN",
        "outputId": "4311b7f1-f38d-4a08-e2d2-d404f38f244e"
      },
      "source": [
        "# 단어 벡터\n",
        "w2v.wv['감동']"
      ],
      "execution_count": 10,
      "outputs": [
        {
          "output_type": "execute_result",
          "data": {
            "text/plain": [
              "array([ 0.5881887 , -0.9992241 ,  0.82709754, -0.11130765,  0.23319794,\n",
              "       -0.05065594,  1.1928968 ,  0.03060822, -0.47597724,  0.40897316,\n",
              "       -0.24473684,  0.32213312, -0.14504497,  0.11221211, -1.3178905 ,\n",
              "       -0.27685177, -0.5231598 ,  0.5173008 , -1.2792141 , -0.2944419 ,\n",
              "       -0.21998513, -0.43803662, -0.02366319,  0.56841147,  0.86567426,\n",
              "        0.0668866 ,  0.13169307,  0.02296105, -0.3144447 ,  0.5146612 ,\n",
              "       -0.04159123,  0.07162941,  0.35347047,  0.5582885 ,  0.5201197 ,\n",
              "        0.1353152 , -0.8289469 , -0.13135523, -1.017658  ,  0.0420857 ,\n",
              "       -0.1087289 , -0.6668211 ,  0.13523474,  0.5527889 , -0.53185517,\n",
              "        0.01137959, -0.16652793, -0.40015072, -0.21456513, -0.04345952],\n",
              "      dtype=float32)"
            ]
          },
          "metadata": {},
          "execution_count": 10
        }
      ]
    },
    {
      "cell_type": "code",
      "metadata": {
        "colab": {
          "base_uri": "https://localhost:8080/"
        },
        "id": "gsGal3uTvggi",
        "outputId": "70484b5f-605c-4af1-ee38-89c1599e8126"
      },
      "source": [
        "# 유사 단어\n",
        "w2v.wv.most_similar('이제까지')"
      ],
      "execution_count": 11,
      "outputs": [
        {
          "output_type": "execute_result",
          "data": {
            "text/plain": [
              "[('개봉관에서', 0.96207195520401),\n",
              " ('여태것', 0.9608229994773865),\n",
              " ('10년동안', 0.9552174806594849),\n",
              " ('하나였는데', 0.9524528384208679),\n",
              " ('3년간', 0.9513561725616455),\n",
              " ('내자신이', 0.947153627872467),\n",
              " ('근', 0.9458890557289124),\n",
              " ('유료로', 0.945405125617981),\n",
              " ('수천편의', 0.9439290761947632),\n",
              " ('단체관람으로', 0.9433076977729797)]"
            ]
          },
          "metadata": {},
          "execution_count": 11
        }
      ]
    },
    {
      "cell_type": "markdown",
      "metadata": {
        "id": "dOw8spGCrfMR"
      },
      "source": [
        "# Fasttext"
      ]
    },
    {
      "cell_type": "code",
      "metadata": {
        "id": "CchgK3gHrWaG",
        "colab": {
          "base_uri": "https://localhost:8080/"
        },
        "outputId": "754ff1d3-dbb2-4445-8877-8692fdcad4ce"
      },
      "source": [
        "# fasttext training\n",
        "\n",
        "import os\n",
        "from gensim.models import FastText\n",
        "\n",
        "def fasttext(texts):\n",
        "    inputs = [tt.split(' ') for tt in texts]\n",
        "    print('number of text = ', len(inputs))\n",
        "\n",
        "    model = FastText(inputs, size=50, window=3, min_count=3, negative=5, workers=os.cpu_count(), iter=10, sg=1)\n",
        "    model.init_sims()\n",
        "\n",
        "    model.save('fasttext')\n",
        "    print('fasttext is trained')\n",
        "\n",
        "fasttext(texts)"
      ],
      "execution_count": 12,
      "outputs": [
        {
          "output_type": "stream",
          "name": "stderr",
          "text": [
            "WARNING:gensim.models.base_any2vec:consider setting layer size to a multiple of 4 for greater performance\n"
          ]
        },
        {
          "output_type": "stream",
          "name": "stdout",
          "text": [
            "number of text =  136748\n",
            "fasttext is trained\n"
          ]
        }
      ]
    },
    {
      "cell_type": "code",
      "metadata": {
        "id": "riKSIWTRu5Av"
      },
      "source": [
        "w2v = Word2Vec.load('word2vec')\n",
        "fasttext = FastText.load('fasttext')"
      ],
      "execution_count": 13,
      "outputs": []
    },
    {
      "cell_type": "code",
      "metadata": {
        "colab": {
          "base_uri": "https://localhost:8080/",
          "height": 174
        },
        "id": "h4pm7jxgswS1",
        "outputId": "5743d43d-a8ee-4dd9-c849-e32c7618ee23"
      },
      "source": [
        "wav.wv.most_similar('고능학교')"
      ],
      "execution_count": 15,
      "outputs": [
        {
          "output_type": "error",
          "ename": "NameError",
          "evalue": "ignored",
          "traceback": [
            "\u001b[0;31m---------------------------------------------------------------------------\u001b[0m",
            "\u001b[0;31mNameError\u001b[0m                                 Traceback (most recent call last)",
            "\u001b[0;32m<ipython-input-15-c60380e797c6>\u001b[0m in \u001b[0;36m<module>\u001b[0;34m\u001b[0m\n\u001b[0;32m----> 1\u001b[0;31m \u001b[0mwav\u001b[0m\u001b[0;34m.\u001b[0m\u001b[0mwv\u001b[0m\u001b[0;34m.\u001b[0m\u001b[0mmost_similar\u001b[0m\u001b[0;34m(\u001b[0m\u001b[0;34m'고능학교'\u001b[0m\u001b[0;34m)\u001b[0m\u001b[0;34m\u001b[0m\u001b[0;34m\u001b[0m\u001b[0m\n\u001b[0m",
            "\u001b[0;31mNameError\u001b[0m: name 'wav' is not defined"
          ]
        }
      ]
    },
    {
      "cell_type": "code",
      "metadata": {
        "id": "KQNqnF28v7_T",
        "colab": {
          "base_uri": "https://localhost:8080/"
        },
        "outputId": "706df720-83f6-4044-ea02-c5185e652aee"
      },
      "source": [
        "fasttext.wv.most_similar('고능학교')"
      ],
      "execution_count": 16,
      "outputs": [
        {
          "output_type": "execute_result",
          "data": {
            "text/plain": [
              "[('학교', 0.9610733985900879),\n",
              " ('중학교', 0.9520258903503418),\n",
              " ('고등학교', 0.9512345790863037),\n",
              " ('초등학교', 0.9367508888244629),\n",
              " ('국민학교', 0.9162280559539795),\n",
              " ('대학교', 0.9023886919021606),\n",
              " ('고등학교시절', 0.9002160429954529),\n",
              " ('초등학교5학년때', 0.8846424221992493),\n",
              " ('고등학교때', 0.8779880404472351),\n",
              " ('다닐', 0.8734228014945984)]"
            ]
          },
          "metadata": {},
          "execution_count": 16
        }
      ]
    },
    {
      "cell_type": "code",
      "metadata": {
        "id": "0CC2b2Kjsh8-"
      },
      "source": [],
      "execution_count": null,
      "outputs": []
    }
  ]
}