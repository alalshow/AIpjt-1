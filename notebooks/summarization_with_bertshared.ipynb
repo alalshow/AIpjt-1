{
  "nbformat": 4,
  "nbformat_minor": 0,
  "metadata": {
    "colab": {
      "name": "summarization_with_bertshared.ipynb",
      "provenance": [],
      "toc_visible": true,
      "include_colab_link": true
    },
    "kernelspec": {
      "name": "python3",
      "display_name": "Python 3"
    },
    "widgets": {
      "application/vnd.jupyter.widget-state+json": {
        "7059743b4f724b7e8b9d28e8a65103c2": {
          "model_module": "@jupyter-widgets/controls",
          "model_name": "HBoxModel",
          "model_module_version": "1.5.0",
          "state": {
            "_dom_classes": [],
            "_model_module": "@jupyter-widgets/controls",
            "_model_module_version": "1.5.0",
            "_model_name": "HBoxModel",
            "_view_count": null,
            "_view_module": "@jupyter-widgets/controls",
            "_view_module_version": "1.5.0",
            "_view_name": "HBoxView",
            "box_style": "",
            "children": [
              "IPY_MODEL_4a6f6218a1c04e87978219400b43d93b",
              "IPY_MODEL_15c6bb8261f54beabb279936e8e6684e",
              "IPY_MODEL_b4bffa4edffd412db17ca77999d26c81"
            ],
            "layout": "IPY_MODEL_130d2a899ac5483e9c994507ff12cd24"
          }
        },
        "4a6f6218a1c04e87978219400b43d93b": {
          "model_module": "@jupyter-widgets/controls",
          "model_name": "HTMLModel",
          "model_module_version": "1.5.0",
          "state": {
            "_dom_classes": [],
            "_model_module": "@jupyter-widgets/controls",
            "_model_module_version": "1.5.0",
            "_model_name": "HTMLModel",
            "_view_count": null,
            "_view_module": "@jupyter-widgets/controls",
            "_view_module_version": "1.5.0",
            "_view_name": "HTMLView",
            "description": "",
            "description_tooltip": null,
            "layout": "IPY_MODEL_b47800f94c55409285d5ec952f176718",
            "placeholder": "​",
            "style": "IPY_MODEL_2247417eec654491b379ebc64b838395",
            "value": "Downloading: 100%"
          }
        },
        "15c6bb8261f54beabb279936e8e6684e": {
          "model_module": "@jupyter-widgets/controls",
          "model_name": "FloatProgressModel",
          "model_module_version": "1.5.0",
          "state": {
            "_dom_classes": [],
            "_model_module": "@jupyter-widgets/controls",
            "_model_module_version": "1.5.0",
            "_model_name": "FloatProgressModel",
            "_view_count": null,
            "_view_module": "@jupyter-widgets/controls",
            "_view_module_version": "1.5.0",
            "_view_name": "ProgressView",
            "bar_style": "success",
            "description": "",
            "description_tooltip": null,
            "layout": "IPY_MODEL_b907b5bde99d49e4842156b8ace14666",
            "max": 589387271,
            "min": 0,
            "orientation": "horizontal",
            "style": "IPY_MODEL_f04075b8ff6e4097a1e020554197f1a5",
            "value": 589387271
          }
        },
        "b4bffa4edffd412db17ca77999d26c81": {
          "model_module": "@jupyter-widgets/controls",
          "model_name": "HTMLModel",
          "model_module_version": "1.5.0",
          "state": {
            "_dom_classes": [],
            "_model_module": "@jupyter-widgets/controls",
            "_model_module_version": "1.5.0",
            "_model_name": "HTMLModel",
            "_view_count": null,
            "_view_module": "@jupyter-widgets/controls",
            "_view_module_version": "1.5.0",
            "_view_name": "HTMLView",
            "description": "",
            "description_tooltip": null,
            "layout": "IPY_MODEL_2d2005905cd34a40b10fd5c0dbc341bd",
            "placeholder": "​",
            "style": "IPY_MODEL_df3a6a1ae76849fca7b974f84efb09a5",
            "value": " 589M/589M [00:14&lt;00:00, 44.4MB/s]"
          }
        },
        "130d2a899ac5483e9c994507ff12cd24": {
          "model_module": "@jupyter-widgets/base",
          "model_name": "LayoutModel",
          "model_module_version": "1.2.0",
          "state": {
            "_model_module": "@jupyter-widgets/base",
            "_model_module_version": "1.2.0",
            "_model_name": "LayoutModel",
            "_view_count": null,
            "_view_module": "@jupyter-widgets/base",
            "_view_module_version": "1.2.0",
            "_view_name": "LayoutView",
            "align_content": null,
            "align_items": null,
            "align_self": null,
            "border": null,
            "bottom": null,
            "display": null,
            "flex": null,
            "flex_flow": null,
            "grid_area": null,
            "grid_auto_columns": null,
            "grid_auto_flow": null,
            "grid_auto_rows": null,
            "grid_column": null,
            "grid_gap": null,
            "grid_row": null,
            "grid_template_areas": null,
            "grid_template_columns": null,
            "grid_template_rows": null,
            "height": null,
            "justify_content": null,
            "justify_items": null,
            "left": null,
            "margin": null,
            "max_height": null,
            "max_width": null,
            "min_height": null,
            "min_width": null,
            "object_fit": null,
            "object_position": null,
            "order": null,
            "overflow": null,
            "overflow_x": null,
            "overflow_y": null,
            "padding": null,
            "right": null,
            "top": null,
            "visibility": null,
            "width": null
          }
        },
        "b47800f94c55409285d5ec952f176718": {
          "model_module": "@jupyter-widgets/base",
          "model_name": "LayoutModel",
          "model_module_version": "1.2.0",
          "state": {
            "_model_module": "@jupyter-widgets/base",
            "_model_module_version": "1.2.0",
            "_model_name": "LayoutModel",
            "_view_count": null,
            "_view_module": "@jupyter-widgets/base",
            "_view_module_version": "1.2.0",
            "_view_name": "LayoutView",
            "align_content": null,
            "align_items": null,
            "align_self": null,
            "border": null,
            "bottom": null,
            "display": null,
            "flex": null,
            "flex_flow": null,
            "grid_area": null,
            "grid_auto_columns": null,
            "grid_auto_flow": null,
            "grid_auto_rows": null,
            "grid_column": null,
            "grid_gap": null,
            "grid_row": null,
            "grid_template_areas": null,
            "grid_template_columns": null,
            "grid_template_rows": null,
            "height": null,
            "justify_content": null,
            "justify_items": null,
            "left": null,
            "margin": null,
            "max_height": null,
            "max_width": null,
            "min_height": null,
            "min_width": null,
            "object_fit": null,
            "object_position": null,
            "order": null,
            "overflow": null,
            "overflow_x": null,
            "overflow_y": null,
            "padding": null,
            "right": null,
            "top": null,
            "visibility": null,
            "width": null
          }
        },
        "2247417eec654491b379ebc64b838395": {
          "model_module": "@jupyter-widgets/controls",
          "model_name": "DescriptionStyleModel",
          "model_module_version": "1.5.0",
          "state": {
            "_model_module": "@jupyter-widgets/controls",
            "_model_module_version": "1.5.0",
            "_model_name": "DescriptionStyleModel",
            "_view_count": null,
            "_view_module": "@jupyter-widgets/base",
            "_view_module_version": "1.2.0",
            "_view_name": "StyleView",
            "description_width": ""
          }
        },
        "b907b5bde99d49e4842156b8ace14666": {
          "model_module": "@jupyter-widgets/base",
          "model_name": "LayoutModel",
          "model_module_version": "1.2.0",
          "state": {
            "_model_module": "@jupyter-widgets/base",
            "_model_module_version": "1.2.0",
            "_model_name": "LayoutModel",
            "_view_count": null,
            "_view_module": "@jupyter-widgets/base",
            "_view_module_version": "1.2.0",
            "_view_name": "LayoutView",
            "align_content": null,
            "align_items": null,
            "align_self": null,
            "border": null,
            "bottom": null,
            "display": null,
            "flex": null,
            "flex_flow": null,
            "grid_area": null,
            "grid_auto_columns": null,
            "grid_auto_flow": null,
            "grid_auto_rows": null,
            "grid_column": null,
            "grid_gap": null,
            "grid_row": null,
            "grid_template_areas": null,
            "grid_template_columns": null,
            "grid_template_rows": null,
            "height": null,
            "justify_content": null,
            "justify_items": null,
            "left": null,
            "margin": null,
            "max_height": null,
            "max_width": null,
            "min_height": null,
            "min_width": null,
            "object_fit": null,
            "object_position": null,
            "order": null,
            "overflow": null,
            "overflow_x": null,
            "overflow_y": null,
            "padding": null,
            "right": null,
            "top": null,
            "visibility": null,
            "width": null
          }
        },
        "f04075b8ff6e4097a1e020554197f1a5": {
          "model_module": "@jupyter-widgets/controls",
          "model_name": "ProgressStyleModel",
          "model_module_version": "1.5.0",
          "state": {
            "_model_module": "@jupyter-widgets/controls",
            "_model_module_version": "1.5.0",
            "_model_name": "ProgressStyleModel",
            "_view_count": null,
            "_view_module": "@jupyter-widgets/base",
            "_view_module_version": "1.2.0",
            "_view_name": "StyleView",
            "bar_color": null,
            "description_width": ""
          }
        },
        "2d2005905cd34a40b10fd5c0dbc341bd": {
          "model_module": "@jupyter-widgets/base",
          "model_name": "LayoutModel",
          "model_module_version": "1.2.0",
          "state": {
            "_model_module": "@jupyter-widgets/base",
            "_model_module_version": "1.2.0",
            "_model_name": "LayoutModel",
            "_view_count": null,
            "_view_module": "@jupyter-widgets/base",
            "_view_module_version": "1.2.0",
            "_view_name": "LayoutView",
            "align_content": null,
            "align_items": null,
            "align_self": null,
            "border": null,
            "bottom": null,
            "display": null,
            "flex": null,
            "flex_flow": null,
            "grid_area": null,
            "grid_auto_columns": null,
            "grid_auto_flow": null,
            "grid_auto_rows": null,
            "grid_column": null,
            "grid_gap": null,
            "grid_row": null,
            "grid_template_areas": null,
            "grid_template_columns": null,
            "grid_template_rows": null,
            "height": null,
            "justify_content": null,
            "justify_items": null,
            "left": null,
            "margin": null,
            "max_height": null,
            "max_width": null,
            "min_height": null,
            "min_width": null,
            "object_fit": null,
            "object_position": null,
            "order": null,
            "overflow": null,
            "overflow_x": null,
            "overflow_y": null,
            "padding": null,
            "right": null,
            "top": null,
            "visibility": null,
            "width": null
          }
        },
        "df3a6a1ae76849fca7b974f84efb09a5": {
          "model_module": "@jupyter-widgets/controls",
          "model_name": "DescriptionStyleModel",
          "model_module_version": "1.5.0",
          "state": {
            "_model_module": "@jupyter-widgets/controls",
            "_model_module_version": "1.5.0",
            "_model_name": "DescriptionStyleModel",
            "_view_count": null,
            "_view_module": "@jupyter-widgets/base",
            "_view_module_version": "1.2.0",
            "_view_name": "StyleView",
            "description_width": ""
          }
        }
      }
    }
  },
  "cells": [
    {
      "cell_type": "markdown",
      "metadata": {
        "id": "view-in-github",
        "colab_type": "text"
      },
      "source": [
        "<a href=\"https://colab.research.google.com/github/alalshow/AIpjt-1/blob/master/notebooks/summarization_with_bertshared.ipynb\" target=\"_parent\"><img src=\"https://colab.research.google.com/assets/colab-badge.svg\" alt=\"Open In Colab\"/></a>"
      ]
    },
    {
      "cell_type": "markdown",
      "metadata": {
        "id": "7UuUT9cSpwaY"
      },
      "source": [
        "# Summarization with seq2seq initialized with pre-trained Bert model (Bertshared)\n",
        "\n",
        "더 많은 정보와 모델은 [Github](https://github.com/kiyoungkim1/LMkor)을 확인해 주세요."
      ]
    },
    {
      "cell_type": "markdown",
      "metadata": {
        "id": "kUnPysF1pt8T"
      },
      "source": [
        "**1. 아래 블럭 왼쪽의 실행버튼을 누르면 필요파일들이 설치됩니다 (약 30초 소요)**"
      ]
    },
    {
      "cell_type": "code",
      "metadata": {
        "id": "atpZXK1ioMDa",
        "outputId": "ce4611de-9d65-4760-de6a-b243cd8e9dd4",
        "colab": {
          "base_uri": "https://localhost:8080/",
          "height": 67,
          "referenced_widgets": [
            "7059743b4f724b7e8b9d28e8a65103c2",
            "4a6f6218a1c04e87978219400b43d93b",
            "15c6bb8261f54beabb279936e8e6684e",
            "b4bffa4edffd412db17ca77999d26c81",
            "130d2a899ac5483e9c994507ff12cd24",
            "b47800f94c55409285d5ec952f176718",
            "2247417eec654491b379ebc64b838395",
            "b907b5bde99d49e4842156b8ace14666",
            "f04075b8ff6e4097a1e020554197f1a5",
            "2d2005905cd34a40b10fd5c0dbc341bd",
            "df3a6a1ae76849fca7b974f84efb09a5"
          ]
        }
      },
      "source": [
        "!git clone https://github.com/kiyoungkim1/LMkor\n",
        "!pip3 install -q transformers\n",
        "\n",
        "from LMkor.examples.bertshared_summarization import Summarize\n",
        "summarize = Summarize('kykim/bertshared-kor-base')"
      ],
      "execution_count": 2,
      "outputs": [
        {
          "output_type": "stream",
          "name": "stdout",
          "text": [
            "fatal: destination path 'LMkor' already exists and is not an empty directory.\n"
          ]
        },
        {
          "output_type": "display_data",
          "data": {
            "text/plain": [
              "Downloading:   0%|          | 0.00/589M [00:00<?, ?B/s]"
            ],
            "application/vnd.jupyter.widget-view+json": {
              "version_major": 2,
              "version_minor": 0,
              "model_id": "7059743b4f724b7e8b9d28e8a65103c2"
            }
          },
          "metadata": {}
        }
      ]
    },
    {
      "cell_type": "markdown",
      "metadata": {
        "id": "y_3Aell-sm19"
      },
      "source": [
        "**2. 아래 블럭 text의 따옴표 사이에 원하는 텍스트를 입력하고 실행버튼을 누르면 문장이 생성됩니다.**"
      ]
    },
    {
      "cell_type": "code",
      "metadata": {
        "id": "bGc4kaPTsoEY",
        "outputId": "59360a93-5c74-4969-cab7-5fb95fa2cc1f",
        "colab": {
          "base_uri": "https://localhost:8080/"
        }
      },
      "source": [
        "text = '''\n",
        "이렇게 구성되어 있구요 \n",
        "저희는 3명이라 \n",
        "고등어구이정식 2개랑 청국장정식을 시켰어요 정식에 비빔밥 나물... 정말 칭찬해 🤗💝\n",
        "나물이 너무 맛있었어요 \n",
        "고등어도 두툼해서 3명에서 먹는데도 충분하더라구요 \n",
        "그리고 청국장은 두부가 큼지막하게 들어가서 \n",
        "정말 꼬소~~~~~~~ \n",
        "그리고 이런데 오면 위생이 정말 신경쓰이는데\n",
        "수저통에 아주 뜨거운 물을 살짝 담아서 소독해서 주시더라구요 \n",
        "ㅎㅎ 뭔가 깨끗한 기분ㅋㅋㅋ아 그리고 \n",
        "인원 수대로 주문하면 막걸리가 1시간동안 무한리필이래요..\n",
        "헐...ㅋㅋㅋㅋㅋ 운전해야 해서 패스했습니다 ㅠㅠ\n",
        "이거 증말..... 필수필수!! 아저씨들..줄서서 떠가지더라구요 ㅋㅋㅋㅋ\n",
        "참고로, 토평메주콩은 \n",
        "경기지역화폐 사용 불가 매장이에요! 청국장을 따로 팔기도 하더라구요 \n",
        "ㅎㅎ\n",
        "참고하세용 구리에 큰 음식점이 많지 않아서 \n",
        "부모님 모시고 갈 곳이 많지 않은데, \n",
        "여기는 추천 드리고 싶어요 \n",
        "메뉴도 그렇고 주차도 정말 편해서 가족모임이럴때 좋을거 같더라구요 \n",
        "내돈내산 구리맛집 추천이요!\n",
        "\n",
        "'''\n",
        "\n",
        "summarize(text)"
      ],
      "execution_count": 4,
      "outputs": [
        {
          "output_type": "stream",
          "name": "stdout",
          "text": [
            "구리의 큰 음식점인 구리구이구이정식 2개와 청국장정식이 2인에 2만원에 판매되고 있으며, 공기공기가 큼지막하게 들어가 칼칼한 맛이 끝내주는 토평메주콩은 식당이 흔치 않아 가족모임이 어려울때 좋은 곳이다.\n"
          ]
        }
      ]
    }
  ]
}